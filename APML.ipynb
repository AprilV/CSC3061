{
  "nbformat": 4,
  "nbformat_minor": 0,
  "metadata": {
    "colab": {
      "name": "APML.ipynb",
      "provenance": [],
      "collapsed_sections": [],
      "toc_visible": true,
      "include_colab_link": true
    },
    "kernelspec": {
      "name": "python3",
      "display_name": "Python 3"
    },
    "accelerator": "TPU"
  },
  "cells": [
    {
      "cell_type": "markdown",
      "metadata": {
        "id": "view-in-github",
        "colab_type": "text"
      },
      "source": [
        "<a href=\"https://colab.research.google.com/github/AprilV/CSC3061/blob/master/APML.ipynb\" target=\"_parent\"><img src=\"https://colab.research.google.com/assets/colab-badge.svg\" alt=\"Open In Colab\"/></a>"
      ]
    },
    {
      "cell_type": "code",
      "metadata": {
        "id": "98CuCanKDO0O",
        "colab_type": "code",
        "outputId": "0e7bac13-da23-4031-a105-a0466ae020af",
        "colab": {
          "base_uri": "https://localhost:8080/",
          "height": 170
        }
      },
      "source": [
        "# Download the csv file from github\n",
        "% rm -r ForDownloadOnly/\n",
        "!git clone https://github.com/wsgdrfz/ForDownloadOnly.git\n",
        "!ls"
      ],
      "execution_count": 0,
      "outputs": [
        {
          "output_type": "stream",
          "text": [
            "rm: cannot remove 'ForDownloadOnly/': No such file or directory\n",
            "Cloning into 'ForDownloadOnly'...\n",
            "remote: Enumerating objects: 40, done.\u001b[K\n",
            "remote: Counting objects: 100% (40/40), done.\u001b[K\n",
            "remote: Compressing objects: 100% (29/29), done.\u001b[K\n",
            "remote: Total 40 (delta 10), reused 40 (delta 10), pack-reused 0\u001b[K\n",
            "Unpacking objects: 100% (40/40), done.\n",
            "ForDownloadOnly  sample_data\n"
          ],
          "name": "stdout"
        }
      ]
    },
    {
      "cell_type": "code",
      "metadata": {
        "id": "XfWyWN3nC6hA",
        "colab_type": "code",
        "colab": {}
      },
      "source": [
        "import numpy as np\n",
        "import matplotlib as mpl\n",
        "import matplotlib.pyplot as plt\n",
        "from scipy.stats import multivariate_normal\n",
        "import random\n",
        "import math\n",
        "import scipy.stats\n",
        "from tabulate import tabulate\n",
        "import pandas as pd\n",
        "import csv\n",
        "from scipy.stats import truncnorm\n",
        "from scipy.stats import norm\n",
        "import scipy. integrate as integrate"
      ],
      "execution_count": 0,
      "outputs": []
    },
    {
      "cell_type": "markdown",
      "metadata": {
        "id": "WHUfmlqjh4RB",
        "colab_type": "text"
      },
      "source": [
        "## Q.4 A ﬁrst Gibbs sampler"
      ]
    },
    {
      "cell_type": "code",
      "metadata": {
        "id": "sMb1JkCcc5A9",
        "colab_type": "code",
        "colab": {}
      },
      "source": [
        "# compute p(t | s,y)\n",
        "def p_tGsy_win(s1, s2, t_sigma):\n",
        "    sample = np.random.normal(s1-s2, t_sigma)\n",
        "    if sample > 0:\n",
        "        return sample\n",
        "    else:\n",
        "        return 0\n",
        "\n",
        "def p_tGsy_lose(s1, s2, t_sigma):\n",
        "    sample = np.random.normal(s1-s2, t_sigma)\n",
        "    if sample < 0:\n",
        "        return sample\n",
        "    else:\n",
        "        return 0\n",
        "\n",
        "# compute p(s | t,y)\n",
        "def p_sGty(s_mean, s_sigma, t, t_sigma):\n",
        "    M = np.mat([1, -1])\n",
        "    sGty_sigma = (s_sigma.getI() + M.getT()*(1/t_sigma)*M).getI()\n",
        "    sGty_mean = sGty_sigma*(s_sigma.getI()*s_mean + M.getT()*(1/t_sigma)*t)\n",
        "    #print(s_mean, s_sigma)\n",
        "    return np.random.multivariate_normal(np.squeeze(np.asarray(sGty_mean)), sGty_sigma),\n",
        "              sGty_sigma[0,0],sGty_sigma[1,1]\n"
      ],
      "execution_count": 0,
      "outputs": []
    },
    {
      "cell_type": "code",
      "metadata": {
        "id": "f1S6jMQODEA1",
        "colab_type": "code",
        "colab": {}
      },
      "source": [
        "# Gibbs sampling\n",
        "def GibbsSampling(s_mean, s_sigma, t_sigma, K=1000, win=True):\n",
        "    s1 = np.zeros(K)\n",
        "    s2 = np.zeros(K)\n",
        "    t = np.zeros(K)\n",
        "    # Initialization\n",
        "    s1[0] = 200\n",
        "    s2[0] = 100\n",
        "    t[0] = 50 # s1[0] - s2[0]\n",
        "\n",
        "    if win==True:\n",
        "        for tau in range(K-1):\n",
        "            t[tau+1] = p_tGsy_win(s1[tau], s2[tau], t_sigma)\n",
        "            #print(t)\n",
        "            s, sigma_s1, sigma_s2 = p_sGty(s_mean, s_sigma, t[tau+1], t_sigma)\n",
        "            s1[tau+1] = s[0]\n",
        "            s2[tau+1] = s[1]\n",
        "        return s1, s2, t\n",
        "\n",
        "    if win==False:\n",
        "        for tau in range(K-1):\n",
        "            t[tau+1] = p_tGsy_lose(s1[tau], s2[tau], t_sigma)\n",
        "            #print(t)\n",
        "            s, sigma_s1, sigma_s2 = p_sGty(s_mean, s_sigma, t[tau+1], t_sigma)\n",
        "            s1[tau+1] = s[0]\n",
        "            s2[tau+1] = s[1]\n",
        "        return s1, s2, t"
      ],
      "execution_count": 0,
      "outputs": []
    },
    {
      "cell_type": "markdown",
      "metadata": {
        "id": "2-KTWj9Mc-eK",
        "colab_type": "text"
      },
      "source": [
        "Test Gibbs Sampling"
      ]
    },
    {
      "cell_type": "code",
      "metadata": {
        "id": "9vbbQ7ysc99X",
        "colab_type": "code",
        "outputId": "fb308ec7-60da-4a8a-cb73-688f26c67e5d",
        "colab": {
          "base_uri": "https://localhost:8080/",
          "height": 322
        }
      },
      "source": [
        "mu = 25 # initial mean of s1 and s2\n",
        "var = 25/3 # initial variance of s1 and s2\n",
        "s_mean = np.mat([[mu], [mu]])\n",
        "s_sigma = np.mat([[var, 0], [0, var]])\n",
        "t_sigma = 1\n",
        "K = 1000 # number of samples\n",
        "s1, s2, t = GibbsSampling(s_mean, s_sigma, t_sigma, K, win=True) \n",
        "print(\"Updated mean of s1,s2,t:\")\n",
        "print(s1.mean(),s2.mean(),t.mean())\n",
        "\n",
        "def plotAllSamples(s1, s2, t):\n",
        "    plt.plot(s1, label='s1')\n",
        "    plt.plot(s2, label='s2')\n",
        "    plt.plot(t, label= 't')\n",
        "    plt.legend(loc='upper right')\n",
        "    plt.show()\n",
        "\n",
        "plotAllSamples(s1, s2, t)"
      ],
      "execution_count": 0,
      "outputs": [
        {
          "output_type": "stream",
          "text": [
            "Updated mean of s1,s2,t:\n",
            "27.15233619670456 23.041006532695015 4.2860422352293135\n"
          ],
          "name": "stdout"
        },
        {
          "output_type": "display_data",
          "data": {
            "image/png": "[encoded data removed]",
            "text/plain": [
              "<Figure size 432x288 with 1 Axes>"
            ]
          },
          "metadata": {
            "tags": []
          }
        }
      ]
    },
    {
      "cell_type": "markdown",
      "metadata": {
        "id": "5BEchJ2Gh9nI",
        "colab_type": "text"
      },
      "source": [
        "### Calculate marginal parameters"
      ]
    },
    {
      "cell_type": "code",
      "metadata": {
        "id": "rPeSzalxhePR",
        "colab_type": "code",
        "colab": {}
      },
      "source": [
        "def calcu_marg_para(s1, s2, t, K):\n",
        "    # stationary samples\n",
        "    burn_in = 100 \n",
        "    s1_sta= np.array(s1[burn_in :]).reshape(K-burn_in,1)\n",
        "    s2_sta= np.array(s2[burn_in:]).reshape(K-burn_in,1)\n",
        "    t_sta = np.array(t [burn_in:]).reshape(K-burn_in,1)\n",
        "\n",
        "    all_stable = np.concatenate((s1_sta,s2_sta,t_sta),axis=1) \n",
        "    # all the stable samples s1,s2,t\n",
        "    samples_mean=np.mean(all_stable,axis=0) # mean\n",
        "    # print(samples_mean,\"\\n\")\n",
        "    samples_conv=np.cov(all_stable.T) # covariance  \n",
        "    # marginalization\n",
        "    mu_marg  = samples_mean\n",
        "    cov_marg = samples_conv\n",
        "    # t_mu_marg   = samples_mean[-1]\n",
        "    # t_cov_marg  = samples_conv[-1,-1]\n",
        "    return mu_marg,cov_marg\n",
        "\n",
        "# plot the samples and fitted Gaussian\n",
        "def plotSampleGaussian(mu_marg, cov_marg, K):\n",
        "    burn_in = 100 \n",
        "    s1_sta= np.array(s1[burn_in :]).reshape(K-burn_in,1)\n",
        "    s2_sta= np.array(s2[burn_in:]).reshape(K-burn_in,1)\n",
        "    t_sta = np.array(t [burn_in:]).reshape(K-burn_in,1)\n",
        "\n",
        "    s1_mu = mu_marg[0]\n",
        "    s1_sigma = cov_marg[0][0]\n",
        "    s2_mu = mu_marg[1]\n",
        "    s2_sigma = cov_marg[1][1]\n",
        "\n",
        "    xv = np.linspace(0,50,K-burn_in)\n",
        "    plt.hist(s1_sta, bins=150, density=True)\n",
        "    plt.plot(xv, 1/np.sqrt(2*np.pi*s1_sigma)*np.exp(-((xv-s1_mu)**2)/2/s1_sigma), label='s1')\n",
        "    plt.legend(loc='upper right')\n",
        "    plt.show()\n",
        "    plt.hist(s2_sta, bins=150, density=True)\n",
        "    plt.plot(xv, 1/np.sqrt(2*np.pi*s2_sigma)*np.exp(-((xv-s2_mu)**2)/2/s2_sigma), label='s2')\n",
        "    plt.legend(loc='upper right')\n",
        "    plt.show()"
      ],
      "execution_count": 0,
      "outputs": []
    },
    {
      "cell_type": "code",
      "metadata": {
        "id": "29Ht0cyLhmYs",
        "colab_type": "code",
        "outputId": "f6d4e728-f754-4512-f923-75571a7a030d",
        "colab": {
          "base_uri": "https://localhost:8080/",
          "height": 792
        }
      },
      "source": [
        "# find reasonable K\n",
        "K = 1000\n",
        "s1, s2,t = GibbsSampling(s_mean, s_sigma, t_sigma, K, win=True)\n",
        "plotAllSamples(s1, s2, t)\n",
        "\n",
        "mu_marg_Gibbs, cov_marg_Gibbs = calcu_marg_para(s1, s2, t, K)\n",
        "plotSampleGaussian(mu_marg_Gibbs, cov_marg_Gibbs, K)"
      ],
      "execution_count": 0,
      "outputs": [
        {
          "output_type": "display_data",
          "data": {
            "image/png": "[encoded data removed]",
            "text/plain": [
              "<Figure size 432x288 with 1 Axes>"
            ]
          },
          "metadata": {
            "tags": []
          }
        },
        {
          "output_type": "display_data",
          "data": {
            "image/png": "[encoded data removed]",
            "text/plain": [
              "<Figure size 432x288 with 1 Axes>"
            ]
          },
          "metadata": {
            "tags": []
          }
        },
        {
          "output_type": "display_data",
          "data": {
            "image/png": "[encoded data removed]",
            "text/plain": [
              "<Figure size 432x288 with 1 Axes>"
            ]
          },
          "metadata": {
            "tags": []
          }
        }
      ]
    },
    {
      "cell_type": "code",
      "metadata": {
        "id": "NkvaeNqaHmHU",
        "colab_type": "code",
        "outputId": "32195632-dd70-4ee4-ccbf-254570aba076",
        "colab": {
          "base_uri": "https://localhost:8080/",
          "height": 540
        }
      },
      "source": [
        "# Compare the prior p(s1) with the fitted Gaussian posterior p(s1 | y=1)\n",
        "s1_mu = mu_marg_Gibbs[0]\n",
        "s1_sigma = cov_marg_Gibbs[0][0]\n",
        "s2_mu = mu_marg_Gibbs[1]\n",
        "s2_sigma = cov_marg_Gibbs[1][1]\n",
        "burn_in = 100\n",
        "\n",
        "xv = np.linspace(10,40,K-burn_in)\n",
        "plt.plot(xv, 1/np.sqrt(2*np.pi*var)*np.exp(-((xv-mu)**2)/2/var), label='p(s1)')\n",
        "plt.plot(xv, 1/np.sqrt(2*np.pi*s1_sigma)*np.exp(-((xv-s1_mu)**2)/2/s1_sigma), label='p(s1 | y=1)')\n",
        "plt.legend(loc='upper right')\n",
        "plt.show()\n",
        "plt.plot(xv,1/np.sqrt(2*np.pi*var)*np.exp(-((xv-mu)**2)/2/var), label='p(s2)')\n",
        "plt.plot(xv,1/np.sqrt(2*np.pi*s2_sigma)*np.exp(-((xv-s2_mu)**2)/2/s2_sigma),label='p(s2 | y=1)')\n",
        "plt.legend(loc='upper right')\n",
        "plt.show()"
      ],
      "execution_count": 0,
      "outputs": [
        {
          "output_type": "display_data",
          "data": {
            "image/png": "[encoded data removed]",
            "text/plain": [
              "<Figure size 432x288 with 1 Axes>"
            ]
          },
          "metadata": {
            "tags": []
          }
        },
        {
          "output_type": "display_data",
          "data": {
            "image/png": "[encoded data removed]",
            "text/plain": [
              "<Figure size 432x288 with 1 Axes>"
            ]
          },
          "metadata": {
            "tags": []
          }
        }
      ]
    },
    {
      "cell_type": "markdown",
      "metadata": {
        "id": "QJy-VUTVkbHY",
        "colab_type": "text"
      },
      "source": [
        "## Q.5&6 Using the model for predictions"
      ]
    },
    {
      "cell_type": "code",
      "metadata": {
        "id": "SGwX_FUqNMft",
        "colab_type": "code",
        "colab": {}
      },
      "source": [
        "def preprocessing_data(filename, useful_col): # attention: must follow the order of col!\n",
        "    df = pd.read_csv(filename, header=0)\n",
        "    total_games_number = df.shape[0]\n",
        "    # Useful info: \n",
        "    df_selected = df[useful_col]\n",
        "    # change the header \n",
        "    df_selected.columns = [\"Team1\",\"Team2\",\"Score1\",\"Score2\"]\n",
        "    # print(df_selected[:10])\n",
        "    # get the result of games\n",
        "    df_selected['result'] = df_selected[\"Score1\"] - df_selected[\"Score2\"]\n",
        "    draw_num = df_selected[df_selected['result']==0].shape[0]\n",
        "    df_nodraw = df_selected[df_selected['result']!=0]\n",
        "    return df_selected, df_nodraw, draw_num"
      ],
      "execution_count": 0,
      "outputs": []
    },
    {
      "cell_type": "code",
      "metadata": {
        "id": "5mCTblQZE8xQ",
        "colab_type": "code",
        "colab": {}
      },
      "source": [
        " ##One step match, just integrate the probability of P(y=1),if larger than 0.5 ,s1 win\n",
        "def end2end_inference(mu_s1, var_s1, mu_s2, var_s2, t_sigma, K, win=True):\n",
        "    s_mean = np.mat([[mu_s1], [mu_s2]])\n",
        "    s_sigma = np.mat([[var_s1, 0], [0, var_s2]])\n",
        "    s1, s2, t = GibbsSampling(s_mean, s_sigma, t_sigma, K, win)\n",
        "    mu_marg, cov_marg = calcu_marg_para(s1,s2,t, K)\n",
        "    #print(\"mean: \", mu_marg, \"\\ncovariance: \\n\", cov_marg)\n",
        "    return mu_marg[0],mu_marg[1],cov_marg[0][0],cov_marg[1][1]\n",
        "    \n",
        "\n",
        "# def predict_y(mu_s1, mu_s2, sigma_s1, sigma_s2, t_sigma=1):\n",
        "#     area=scipy.stats.norm(mu_s1-mu_s2, t_sigma+sigma_s1+sigma_s2).cdf(0)\n",
        "#     return 1-area\n",
        "\n",
        "def predict_y(mu_s1, mu_s2, sigma_s1, sigma_s2, t_sigma=1):\n",
        "    # Only consider mu:\n",
        "    if(mu_s1>mu_s2):\n",
        "      return 1\n",
        "    else:\n",
        "      return -1"
      ],
      "execution_count": 0,
      "outputs": []
    },
    {
      "cell_type": "code",
      "metadata": {
        "id": "g7dPRx4Yke0g",
        "colab_type": "code",
        "colab": {}
      },
      "source": [
        "def run_games(games_df, t_sigma=1, K=1000):  #header [\"Team1\",\"Team2\",\"Score1\",\"Score2\"]\n",
        "    # Init Dataframe for skill\n",
        "    all_teams = list(set(games_df[\"Team1\"].tolist()+games_df[\"Team2\"].tolist()))\n",
        "    pd_skills = pd.DataFrame(columns=[\"TeamName\",\"Mu\",\"Sigma\"], index=all_teams)\n",
        "    pd_skills[\"TeamName\"] = all_teams\n",
        "    pd_skills[\"Mu\"] = 25\n",
        "    pd_skills[\"Sigma\"] = 25/3\n",
        "    right_pred = 0\n",
        "    for index, row in games_df.iterrows():\n",
        "        mu_s1 = pd_skills.loc[row[\"Team1\"],\"Mu\"]\n",
        "        sigma_s1 = pd_skills.loc[row[\"Team1\"],\"Sigma\"]\n",
        "        mu_s2 = pd_skills.loc[row[\"Team2\"],\"Mu\"]\n",
        "        sigma_s2 = pd_skills.loc[row[\"Team2\"],\"Sigma\"]\n",
        "        predict_result = predict_y(mu_s1, mu_s2, sigma_s1, sigma_s2)\n",
        "        if(row['result']!=0):\n",
        "            mu_s1_new, mu_s2_new, sigma_s1_new, sigma_s2_new = end2end_inference(mu_s1, \n",
        "                                                                                 sigma_s1, \n",
        "                                                                                 mu_s2, \n",
        "                                                                                 sigma_s2,\n",
        "                                                                                 t_sigma,\n",
        "                                                                                 K,\n",
        "                                                                                 win=(row['result']>0))\n",
        "            pd_skills.loc[row[\"Team1\"],\"Mu\"] = mu_s1_new\n",
        "            pd_skills.loc[row[\"Team1\"],\"Sigma\"] = sigma_s1_new\n",
        "            pd_skills.loc[row[\"Team2\"],\"Mu\"] = mu_s2_new\n",
        "            pd_skills.loc[row[\"Team2\"],\"Sigma\"] = sigma_s2_new\n",
        "            if(predict_result*row['result']>0):\n",
        "              right_pred+=1\n",
        "        else:\n",
        "            # ==0\n",
        "            pass\n",
        "    pd_skill_sort = pd_skills.sort_values(\"Mu\",ascending=False).reset_index(drop = True)\n",
        "    return pd_skill_sort, right_pred/games_df.shape[0]\n"
      ],
      "execution_count": 0,
      "outputs": []
    },
    {
      "cell_type": "code",
      "metadata": {
        "id": "0op0WFyJensT",
        "colab_type": "code",
        "outputId": "55056384-d9e5-49fb-b425-e3d96fa9c7a1",
        "colab": {
          "base_uri": "https://localhost:8080/",
          "height": 200
        }
      },
      "source": [
        "# Preprocessing\n",
        "given_data = 'ForDownloadOnly/SerieA.csv'\n",
        "dfA_useful, dfA_nodraw, draw_num = preprocessing_data(given_data, \\\n",
        "                                                      ['HomeTeam', 'AwayTeam', 'FTHG', 'FTAG'])"
      ],
      "execution_count": 0,
      "outputs": [
        {
          "output_type": "error",
          "ename": "NameError",
          "evalue": "ignored",
          "traceback": [
            "\u001b[0;31m---------------------------------------------------------------------------\u001b[0m",
            "\u001b[0;31mNameError\u001b[0m                                 Traceback (most recent call last)",
            "\u001b[0;32m<ipython-input-3-1f4594539593>\u001b[0m in \u001b[0;36m<module>\u001b[0;34m()\u001b[0m\n\u001b[1;32m      1\u001b[0m \u001b[0mgiven_data\u001b[0m \u001b[0;34m=\u001b[0m \u001b[0;34m'ForDownloadOnly/SerieA.csv'\u001b[0m\u001b[0;34m\u001b[0m\u001b[0;34m\u001b[0m\u001b[0m\n\u001b[0;32m----> 2\u001b[0;31m \u001b[0mdfA_useful\u001b[0m\u001b[0;34m,\u001b[0m \u001b[0mdfA_nodraw\u001b[0m\u001b[0;34m,\u001b[0m \u001b[0mdraw_num\u001b[0m \u001b[0;34m=\u001b[0m \u001b[0mpreprocessing_data\u001b[0m\u001b[0;34m(\u001b[0m\u001b[0mgiven_data\u001b[0m\u001b[0;34m,\u001b[0m                                                       \u001b[0;34m[\u001b[0m\u001b[0;34m'HomeTeam'\u001b[0m\u001b[0;34m,\u001b[0m \u001b[0;34m'AwayTeam'\u001b[0m\u001b[0;34m,\u001b[0m \u001b[0;34m'FTHG'\u001b[0m\u001b[0;34m,\u001b[0m \u001b[0;34m'FTAG'\u001b[0m\u001b[0;34m]\u001b[0m\u001b[0;34m)\u001b[0m\u001b[0;34m\u001b[0m\u001b[0;34m\u001b[0m\u001b[0m\n\u001b[0m",
            "\u001b[0;31mNameError\u001b[0m: name 'preprocessing_data' is not defined"
          ]
        }
      ]
    },
    {
      "cell_type": "markdown",
      "metadata": {
        "id": "AyP9JU8sruyp",
        "colab_type": "text"
      },
      "source": [
        ""
      ]
    },
    {
      "cell_type": "code",
      "metadata": {
        "id": "qdB20VLp2zJV",
        "colab_type": "code",
        "outputId": "2b467197-31ac-44cc-adc6-6f04f2efd03e",
        "colab": {
          "base_uri": "https://localhost:8080/",
          "height": 696
        }
      },
      "source": [
        "# Run Q6\n",
        "skills_A, acc = run_games(dfA_nodraw)\n",
        "print(acc)\n",
        "skills_A"
      ],
      "execution_count": 0,
      "outputs": [
        {
          "output_type": "stream",
          "text": [
            "0.6580882352941176\n"
          ],
          "name": "stdout"
        },
        {
          "output_type": "execute_result",
          "data": {
            "text/html": [
              "<div>\n",
              "<style scoped>\n",
              "    .dataframe tbody tr th:only-of-type {\n",
              "        vertical-align: middle;\n",
              "    }\n",
              "\n",
              "    .dataframe tbody tr th {\n",
              "        vertical-align: top;\n",
              "    }\n",
              "\n",
              "    .dataframe thead th {\n",
              "        text-align: right;\n",
              "    }\n",
              "</style>\n",
              "<table border=\"1\" class=\"dataframe\">\n",
              "  <thead>\n",
              "    <tr style=\"text-align: right;\">\n",
              "      <th></th>\n",
              "      <th>TeamName</th>\n",
              "      <th>Mu</th>\n",
              "      <th>Sigma</th>\n",
              "    </tr>\n",
              "  </thead>\n",
              "  <tbody>\n",
              "    <tr>\n",
              "      <th>0</th>\n",
              "      <td>Napoli</td>\n",
              "      <td>25.848718</td>\n",
              "      <td>0.128310</td>\n",
              "    </tr>\n",
              "    <tr>\n",
              "      <th>1</th>\n",
              "      <td>Juventus</td>\n",
              "      <td>25.835482</td>\n",
              "      <td>0.203195</td>\n",
              "    </tr>\n",
              "    <tr>\n",
              "      <th>2</th>\n",
              "      <td>Milan</td>\n",
              "      <td>25.762442</td>\n",
              "      <td>0.190722</td>\n",
              "    </tr>\n",
              "    <tr>\n",
              "      <th>3</th>\n",
              "      <td>Atalanta</td>\n",
              "      <td>25.656417</td>\n",
              "      <td>0.141423</td>\n",
              "    </tr>\n",
              "    <tr>\n",
              "      <th>4</th>\n",
              "      <td>Inter</td>\n",
              "      <td>25.568043</td>\n",
              "      <td>0.132637</td>\n",
              "    </tr>\n",
              "    <tr>\n",
              "      <th>5</th>\n",
              "      <td>Torino</td>\n",
              "      <td>25.526396</td>\n",
              "      <td>0.152452</td>\n",
              "    </tr>\n",
              "    <tr>\n",
              "      <th>6</th>\n",
              "      <td>Roma</td>\n",
              "      <td>25.242860</td>\n",
              "      <td>0.104927</td>\n",
              "    </tr>\n",
              "    <tr>\n",
              "      <th>7</th>\n",
              "      <td>Lazio</td>\n",
              "      <td>25.135804</td>\n",
              "      <td>0.129734</td>\n",
              "    </tr>\n",
              "    <tr>\n",
              "      <th>8</th>\n",
              "      <td>Sampdoria</td>\n",
              "      <td>24.956041</td>\n",
              "      <td>0.112503</td>\n",
              "    </tr>\n",
              "    <tr>\n",
              "      <th>9</th>\n",
              "      <td>Empoli</td>\n",
              "      <td>24.822487</td>\n",
              "      <td>0.107826</td>\n",
              "    </tr>\n",
              "    <tr>\n",
              "      <th>10</th>\n",
              "      <td>Spal</td>\n",
              "      <td>24.797973</td>\n",
              "      <td>0.138167</td>\n",
              "    </tr>\n",
              "    <tr>\n",
              "      <th>11</th>\n",
              "      <td>Genoa</td>\n",
              "      <td>24.790557</td>\n",
              "      <td>0.125009</td>\n",
              "    </tr>\n",
              "    <tr>\n",
              "      <th>12</th>\n",
              "      <td>Parma</td>\n",
              "      <td>24.731683</td>\n",
              "      <td>0.102031</td>\n",
              "    </tr>\n",
              "    <tr>\n",
              "      <th>13</th>\n",
              "      <td>Udinese</td>\n",
              "      <td>24.705973</td>\n",
              "      <td>0.117160</td>\n",
              "    </tr>\n",
              "    <tr>\n",
              "      <th>14</th>\n",
              "      <td>Bologna</td>\n",
              "      <td>24.688405</td>\n",
              "      <td>0.099484</td>\n",
              "    </tr>\n",
              "    <tr>\n",
              "      <th>15</th>\n",
              "      <td>Fiorentina</td>\n",
              "      <td>24.581338</td>\n",
              "      <td>0.141924</td>\n",
              "    </tr>\n",
              "    <tr>\n",
              "      <th>16</th>\n",
              "      <td>Cagliari</td>\n",
              "      <td>24.579607</td>\n",
              "      <td>0.107477</td>\n",
              "    </tr>\n",
              "    <tr>\n",
              "      <th>17</th>\n",
              "      <td>Sassuolo</td>\n",
              "      <td>24.408161</td>\n",
              "      <td>0.210493</td>\n",
              "    </tr>\n",
              "    <tr>\n",
              "      <th>18</th>\n",
              "      <td>Frosinone</td>\n",
              "      <td>24.063687</td>\n",
              "      <td>0.174398</td>\n",
              "    </tr>\n",
              "    <tr>\n",
              "      <th>19</th>\n",
              "      <td>Chievo</td>\n",
              "      <td>23.468734</td>\n",
              "      <td>0.390671</td>\n",
              "    </tr>\n",
              "  </tbody>\n",
              "</table>\n",
              "</div>"
            ],
            "text/plain": [
              "      TeamName         Mu     Sigma\n",
              "0       Napoli  25.848718  0.128310\n",
              "1     Juventus  25.835482  0.203195\n",
              "2        Milan  25.762442  0.190722\n",
              "3     Atalanta  25.656417  0.141423\n",
              "4        Inter  25.568043  0.132637\n",
              "5       Torino  25.526396  0.152452\n",
              "6         Roma  25.242860  0.104927\n",
              "7        Lazio  25.135804  0.129734\n",
              "8    Sampdoria  24.956041  0.112503\n",
              "9       Empoli  24.822487  0.107826\n",
              "10        Spal  24.797973  0.138167\n",
              "11       Genoa  24.790557  0.125009\n",
              "12       Parma  24.731683  0.102031\n",
              "13     Udinese  24.705973  0.117160\n",
              "14     Bologna  24.688405  0.099484\n",
              "15  Fiorentina  24.581338  0.141924\n",
              "16    Cagliari  24.579607  0.107477\n",
              "17    Sassuolo  24.408161  0.210493\n",
              "18   Frosinone  24.063687  0.174398\n",
              "19      Chievo  23.468734  0.390671"
            ]
          },
          "metadata": {
            "tags": []
          },
          "execution_count": 35
        }
      ]
    },
    {
      "cell_type": "code",
      "metadata": {
        "id": "Y1YuXQSt4NPT",
        "colab_type": "code",
        "colab": {}
      },
      "source": [
        "from google.colab import files\n",
        "def download_table_latex(filename, df):\n",
        "    with open(filename, 'w') as tf:\n",
        "        tf.write(df.to_latex())\n",
        "    files.download(filename)\n",
        "\n",
        "# download_table_latex('skill_A.tex',skills_A)"
      ],
      "execution_count": 0,
      "outputs": []
    },
    {
      "cell_type": "code",
      "metadata": {
        "id": "U-h7PXaRpPXJ",
        "colab_type": "code",
        "outputId": "73746464-9c31-4567-a3cd-1e3120cd2cb5",
        "colab": {
          "base_uri": "https://localhost:8080/",
          "height": 696
        }
      },
      "source": [
        "# shuffle dataset\n",
        "dfA_shuffle = dfA_nodraw.reindex(np.random.permutation(dfA_nodraw.index))\n",
        "skills_A_shuffle, acc_shuffle = run_games(dfA_shuffle)\n",
        "print(acc_shuffle)\n",
        "skills_A_shuffle"
      ],
      "execution_count": 0,
      "outputs": [
        {
          "output_type": "stream",
          "text": [
            "0.6397058823529411\n"
          ],
          "name": "stdout"
        },
        {
          "output_type": "execute_result",
          "data": {
            "text/html": [
              "<div>\n",
              "<style scoped>\n",
              "    .dataframe tbody tr th:only-of-type {\n",
              "        vertical-align: middle;\n",
              "    }\n",
              "\n",
              "    .dataframe tbody tr th {\n",
              "        vertical-align: top;\n",
              "    }\n",
              "\n",
              "    .dataframe thead th {\n",
              "        text-align: right;\n",
              "    }\n",
              "</style>\n",
              "<table border=\"1\" class=\"dataframe\">\n",
              "  <thead>\n",
              "    <tr style=\"text-align: right;\">\n",
              "      <th></th>\n",
              "      <th>TeamName</th>\n",
              "      <th>Mu</th>\n",
              "      <th>Sigma</th>\n",
              "    </tr>\n",
              "  </thead>\n",
              "  <tbody>\n",
              "    <tr>\n",
              "      <th>0</th>\n",
              "      <td>Juventus</td>\n",
              "      <td>25.948123</td>\n",
              "      <td>0.089440</td>\n",
              "    </tr>\n",
              "    <tr>\n",
              "      <th>1</th>\n",
              "      <td>Napoli</td>\n",
              "      <td>25.813244</td>\n",
              "      <td>0.128690</td>\n",
              "    </tr>\n",
              "    <tr>\n",
              "      <th>2</th>\n",
              "      <td>Milan</td>\n",
              "      <td>25.671123</td>\n",
              "      <td>0.133262</td>\n",
              "    </tr>\n",
              "    <tr>\n",
              "      <th>3</th>\n",
              "      <td>Roma</td>\n",
              "      <td>25.524165</td>\n",
              "      <td>0.127374</td>\n",
              "    </tr>\n",
              "    <tr>\n",
              "      <th>4</th>\n",
              "      <td>Torino</td>\n",
              "      <td>25.506247</td>\n",
              "      <td>0.159661</td>\n",
              "    </tr>\n",
              "    <tr>\n",
              "      <th>5</th>\n",
              "      <td>Atalanta</td>\n",
              "      <td>25.387199</td>\n",
              "      <td>0.159477</td>\n",
              "    </tr>\n",
              "    <tr>\n",
              "      <th>6</th>\n",
              "      <td>Inter</td>\n",
              "      <td>25.224480</td>\n",
              "      <td>0.121081</td>\n",
              "    </tr>\n",
              "    <tr>\n",
              "      <th>7</th>\n",
              "      <td>Lazio</td>\n",
              "      <td>25.144085</td>\n",
              "      <td>0.101783</td>\n",
              "    </tr>\n",
              "    <tr>\n",
              "      <th>8</th>\n",
              "      <td>Sampdoria</td>\n",
              "      <td>25.110757</td>\n",
              "      <td>0.109844</td>\n",
              "    </tr>\n",
              "    <tr>\n",
              "      <th>9</th>\n",
              "      <td>Bologna</td>\n",
              "      <td>24.856654</td>\n",
              "      <td>0.100074</td>\n",
              "    </tr>\n",
              "    <tr>\n",
              "      <th>10</th>\n",
              "      <td>Sassuolo</td>\n",
              "      <td>24.825263</td>\n",
              "      <td>0.175380</td>\n",
              "    </tr>\n",
              "    <tr>\n",
              "      <th>11</th>\n",
              "      <td>Parma</td>\n",
              "      <td>24.805791</td>\n",
              "      <td>0.100745</td>\n",
              "    </tr>\n",
              "    <tr>\n",
              "      <th>12</th>\n",
              "      <td>Genoa</td>\n",
              "      <td>24.760756</td>\n",
              "      <td>0.136015</td>\n",
              "    </tr>\n",
              "    <tr>\n",
              "      <th>13</th>\n",
              "      <td>Spal</td>\n",
              "      <td>24.719384</td>\n",
              "      <td>0.092153</td>\n",
              "    </tr>\n",
              "    <tr>\n",
              "      <th>14</th>\n",
              "      <td>Udinese</td>\n",
              "      <td>24.643191</td>\n",
              "      <td>0.125305</td>\n",
              "    </tr>\n",
              "    <tr>\n",
              "      <th>15</th>\n",
              "      <td>Cagliari</td>\n",
              "      <td>24.632172</td>\n",
              "      <td>0.118808</td>\n",
              "    </tr>\n",
              "    <tr>\n",
              "      <th>16</th>\n",
              "      <td>Fiorentina</td>\n",
              "      <td>24.609632</td>\n",
              "      <td>0.158470</td>\n",
              "    </tr>\n",
              "    <tr>\n",
              "      <th>17</th>\n",
              "      <td>Empoli</td>\n",
              "      <td>24.501606</td>\n",
              "      <td>0.129564</td>\n",
              "    </tr>\n",
              "    <tr>\n",
              "      <th>18</th>\n",
              "      <td>Frosinone</td>\n",
              "      <td>24.293755</td>\n",
              "      <td>0.185883</td>\n",
              "    </tr>\n",
              "    <tr>\n",
              "      <th>19</th>\n",
              "      <td>Chievo</td>\n",
              "      <td>23.631201</td>\n",
              "      <td>0.408362</td>\n",
              "    </tr>\n",
              "  </tbody>\n",
              "</table>\n",
              "</div>"
            ],
            "text/plain": [
              "      TeamName         Mu     Sigma\n",
              "0     Juventus  25.948123  0.089440\n",
              "1       Napoli  25.813244  0.128690\n",
              "2        Milan  25.671123  0.133262\n",
              "3         Roma  25.524165  0.127374\n",
              "4       Torino  25.506247  0.159661\n",
              "5     Atalanta  25.387199  0.159477\n",
              "6        Inter  25.224480  0.121081\n",
              "7        Lazio  25.144085  0.101783\n",
              "8    Sampdoria  25.110757  0.109844\n",
              "9      Bologna  24.856654  0.100074\n",
              "10    Sassuolo  24.825263  0.175380\n",
              "11       Parma  24.805791  0.100745\n",
              "12       Genoa  24.760756  0.136015\n",
              "13        Spal  24.719384  0.092153\n",
              "14     Udinese  24.643191  0.125305\n",
              "15    Cagliari  24.632172  0.118808\n",
              "16  Fiorentina  24.609632  0.158470\n",
              "17      Empoli  24.501606  0.129564\n",
              "18   Frosinone  24.293755  0.185883\n",
              "19      Chievo  23.631201  0.408362"
            ]
          },
          "metadata": {
            "tags": []
          },
          "execution_count": 37
        }
      ]
    },
    {
      "cell_type": "code",
      "metadata": {
        "id": "bTcSGg4COcJ3",
        "colab_type": "code",
        "colab": {}
      },
      "source": [
        "# download_table_latex('skill_A_shuffle.tex',skills_A_shuffle)"
      ],
      "execution_count": 0,
      "outputs": []
    },
    {
      "cell_type": "markdown",
      "metadata": {
        "id": "RrN2Vtfp6rD5",
        "colab_type": "text"
      },
      "source": [
        "## Q.8 Message-passing algorithm"
      ]
    },
    {
      "cell_type": "code",
      "metadata": {
        "id": "P9jS7XJ667Ml",
        "colab_type": "code",
        "colab": {}
      },
      "source": [
        "class Message:\n",
        "    #\"Class representing messages to simplify Gaussian message -passing\"\n",
        "    def __init__(self , m, s):\n",
        "        self.m = m\n",
        "        self.s = s\n",
        "\n",
        "    def __mul__(self , other):\n",
        "    #\"Product of Gaussians\"\n",
        "        s = 1/(1/ self.s + 1/ other.s)\n",
        "        m = s*( self.m/self.s + other.m/other.s)\n",
        "        return Message(m,s)\n",
        " \n",
        "    def __truediv__ (self , other):\n",
        "    #\"Division of Gaussians\"\n",
        "        s = 1/(1/ self.s - 1/ other.s)\n",
        "        m = s*( self.m/self.s - other.m/other.s)\n",
        "        return Message(m, s)\n",
        "    \n",
        "    def __str__(self):\n",
        "    #\"For printing\"\n",
        "        return f\"({self.m}, {self.s})\"\n",
        "\n",
        "def approximateTruncatedGaussian(y, mu):\n",
        "    #\"Approximate the truncated Gaussian marginal\"\n",
        "    m1 = mu.m\n",
        "    s1 = mu.s\n",
        "    if y == 1:\n",
        "        a, b = 0, 1000\n",
        "    else:\n",
        "        a, b = -1000, 0\n",
        "    a, b = (a - m1) / np.sqrt(s1), (b - m1) / np.sqrt(s1)\n",
        "    m = truncnorm .mean(a, b, loc=m1 , scale=np.sqrt(s1))\n",
        "    s = truncnorm .var(a, b, loc=m1 , scale=np.sqrt(s1))\n",
        "    return Message(m, s)\n",
        "\n",
        "def messagePassing(y, m_s1, m_s2 ,s_s1, s_s2, s):\n",
        "    #\"Compute expectation propagation\"\n",
        "    mu_fs1_s1 = Message(m_s1 , s_s1)\n",
        "    mu_fs2_s2 = Message(m_s2 , s_s2)\n",
        "    #mu1 = Message (0, 1) # Arbtrary initialization\n",
        "\n",
        "    mu_s1_fs1s2w  = Message(mu_fs1_s1.m , mu_fs1_s1.s)\n",
        "    mu_s2_fs1s2w  = Message(mu_fs2_s2.m , mu_fs2_s2.s)\n",
        "    \n",
        "    \n",
        "    mu_fs1s2w_w   = Message(m_s1-m_s2,s_s1+s_s2)\n",
        "    mu_w_fwt      = mu_fs1s2w_w \n",
        "    mu_fwt_t      = Message(m_s1-m_s2, s_s1+s_s2+s)\n",
        "    \n",
        "    ## when y=1 intergral right side, y=0 left side\n",
        "       \n",
        "    pt1   = approximateTruncatedGaussian (y , mu_fwt_t)\n",
        "    # print(pt1.m,pt1.s)\n",
        "    mu_h_fty_t    = pt1/mu_fwt_t\n",
        "    \n",
        "    mu_h_t_fwt    = Message(mu_h_fty_t.m, mu_h_fty_t.s)\n",
        "    mu_h_fwt_w    = Message(mu_h_t_fwt.m, mu_h_t_fwt.s+s)\n",
        "\n",
        "    mu_h_w_fs1s2w = Message(mu_h_fwt_w.m, mu_h_fwt_w.s)\n",
        "    \n",
        "    mu_fs1s2w_s1  = Message(m_s2 + mu_h_w_fs1s2w.m, mu_h_w_fs1s2w.s+s_s2)\n",
        "    mu_fs1s2w_s2  = Message(m_s1 - mu_h_w_fs1s2w.m, mu_h_w_fs1s2w.s+s_s1)\n",
        "        \n",
        "    #print(mu_fs1_s1.m, mu_fs1_s1.s)    \n",
        "    #print(mu_fs1s2w_s1.m, mu_fs1s2w_s1.s)  \n",
        "    p_s1_y= mu_fs1_s1*mu_fs1s2w_s1\n",
        "    p_s2_y= mu_fs2_s2*mu_fs1s2w_s2\n",
        "            \n",
        "            \n",
        "    return p_s1_y.m, p_s1_y.s, p_s2_y.m, p_s2_y.s"
      ],
      "execution_count": 0,
      "outputs": []
    },
    {
      "cell_type": "code",
      "metadata": {
        "id": "DiTrEkqi7DQ_",
        "colab_type": "code",
        "outputId": "6acb632c-adb1-4c76-ecf1-70c8f12f29d7",
        "colab": {
          "base_uri": "https://localhost:8080/",
          "height": 54
        }
      },
      "source": [
        "# Run Q.8\n",
        "m_s1 = 25\n",
        "s_s1 = 25/3\n",
        "m_s2 = 25\n",
        "s_s2 = 25/3\n",
        "s = 1\n",
        "y = 1\n",
        "\n",
        "s1_mu_MP, s1_sigma_MP, s2_mu_MP, s2_sigma_MP = messagePassing(y , m_s1, m_s2, \n",
        "                                                                                                    s_s1, s_s2, s)\n",
        "\n",
        "print(s1_mu_MP, s1_sigma_MP, s2_mu_MP, s2_sigma_MP)"
      ],
      "execution_count": 0,
      "outputs": [
        {
          "output_type": "stream",
          "text": [
            "26.581909040411844 5.830897121196615 23.41809095958816 5.830897121196615\n"
          ],
          "name": "stdout"
        }
      ]
    },
    {
      "cell_type": "code",
      "metadata": {
        "id": "PeFIRgWCQI9o",
        "colab_type": "code",
        "outputId": "cb5275fa-061e-45c1-e4e1-40225afb74f7",
        "colab": {
          "base_uri": "https://localhost:8080/",
          "height": 640
        }
      },
      "source": [
        "# Compare posterior from Gibbs sampling with that from Message passing\n",
        "s1_mu_Gibbs = mu_marg_Gibbs[0]\n",
        "s1_sigma_Gibbs = cov_marg_Gibbs[0][0]\n",
        "s2_mu_Gibbs = mu_marg_Gibbs[1]\n",
        "s2_sigma_Gibbs = cov_marg_Gibbs[1][1]\n",
        "\n",
        "burn_in = 100\n",
        "xv = np.linspace(10,40,K-burn_in)\n",
        "plt.plot(xv, \n",
        "          1/np.sqrt(2*np.pi*s1_sigma_Gibbs)*np.exp(-((xv-s1_mu_Gibbs)**2)/2/s1_sigma_Gibbs), \n",
        "          label='p(s1 | y=1) from \\nGibbs sampling')\n",
        "plt.plot(xv, 1/np.sqrt(2*np.pi*s1_sigma_MP)*np.exp(-((xv-s1_mu_MP)**2)/2/s1_sigma_MP), \n",
        "          label='p(s1 | y=1) from \\nmessage passing')\n",
        "plt.legend(loc='upper right')\n",
        "plt.show()\n",
        "plt.plot(xv, \n",
        "          1/np.sqrt(2*np.pi*s2_sigma_Gibbs)*np.exp(-((xv-s2_mu_Gibbs)**2)/2/s2_sigma_Gibbs), \n",
        "          label='p(s2 | y=1) from \\nGibbs sampling')\n",
        "plt.plot(xv, 1/np.sqrt(2*np.pi*s2_sigma_MP)*np.exp(-((xv-s2_mu_MP)**2)/2/s2_sigma_MP), \n",
        "          label='p(s2 | y=1) from \\nmessage passing')\n",
        "plt.legend(loc='upper right')\n",
        "plt.show()\n",
        "\n",
        "print(\"From Gibbs sampling: \\ns1_mu=\",s1_mu_Gibbs, \"s1_sigma=\",s1_sigma_Gibbs, \n",
        "        \"\\ns2_mu=\",s2_mu_Gibbs, \"s2_sigma=\",s2_sigma_Gibbs)\n",
        "print(\"From message passing: \\ns1_mu=\",s1_mu_MP, \"s1_sigma=\",s1_sigma_MP, \n",
        "        \"\\ns2_mu=\",s2_mu_MP, \"s2_sigma=\",s2_sigma_MP)"
      ],
      "execution_count": 0,
      "outputs": [
        {
          "output_type": "display_data",
          "data": {
            "image/png": "[encoded data removed]",
            "text/plain": [
              "<Figure size 432x288 with 1 Axes>"
            ]
          },
          "metadata": {
            "tags": []
          }
        },
        {
          "output_type": "display_data",
          "data": {
            "image/png": "[encoded data removed]",
            "text/plain": [
              "<Figure size 432x288 with 1 Axes>"
            ]
          },
          "metadata": {
            "tags": []
          }
        },
        {
          "output_type": "stream",
          "text": [
            "From Gibbs sampling: \n",
            "s1_mu= 26.609969387817006 s1_sigma= 5.944622955221686 \n",
            "s2_mu= 23.322463028736866 s2_sigma= 6.147162881280415\n",
            "From message passing: \n",
            "s1_mu= 26.581909040411844 s1_sigma= 5.830897121196615 \n",
            "s2_mu= 23.41809095958816 s2_sigma= 5.830897121196615\n"
          ],
          "name": "stdout"
        }
      ]
    },
    {
      "cell_type": "markdown",
      "metadata": {
        "id": "NdcU5RUPkRPn",
        "colab_type": "text"
      },
      "source": [
        "## Q.9 Our Own Data"
      ]
    },
    {
      "cell_type": "code",
      "metadata": {
        "id": "S9jgKvJUNqlQ",
        "colab_type": "code",
        "outputId": "03c7ef6c-b9df-46a1-8e0d-802f2e61b3ff",
        "colab": {
          "base_uri": "https://localhost:8080/",
          "height": 551
        }
      },
      "source": [
        "new_data = 'ForDownloadOnly/LeagueofLegends.csv'\n",
        "df_useful_new, df_nodraw_new, draw_num_new = preprocessing_data(new_data, \n",
        "                                                                ['blueTeamTag', 'redTeamTag', 'bResult', 'rResult'])\n",
        "skills_A_new, acc_new = run_games(df_nodraw_new)\n",
        "print(acc_new)\n",
        "skills_A_new \n"
      ],
      "execution_count": 0,
      "outputs": [
        {
          "output_type": "stream",
          "text": [
            "/usr/local/lib/python3.6/dist-packages/ipykernel_launcher.py:10: SettingWithCopyWarning: \n",
            "A value is trying to be set on a copy of a slice from a DataFrame.\n",
            "Try using .loc[row_indexer,col_indexer] = value instead\n",
            "\n",
            "See the caveats in the documentation: http://pandas.pydata.org/pandas-docs/stable/indexing.html#indexing-view-versus-copy\n",
            "  # Remove the CWD from sys.path while we load stuff.\n"
          ],
          "name": "stderr"
        },
        {
          "output_type": "stream",
          "text": [
            "0.5918367346938775\n"
          ],
          "name": "stdout"
        },
        {
          "output_type": "execute_result",
          "data": {
            "text/html": [
              "<div>\n",
              "<style scoped>\n",
              "    .dataframe tbody tr th:only-of-type {\n",
              "        vertical-align: middle;\n",
              "    }\n",
              "\n",
              "    .dataframe tbody tr th {\n",
              "        vertical-align: top;\n",
              "    }\n",
              "\n",
              "    .dataframe thead th {\n",
              "        text-align: right;\n",
              "    }\n",
              "</style>\n",
              "<table border=\"1\" class=\"dataframe\">\n",
              "  <thead>\n",
              "    <tr style=\"text-align: right;\">\n",
              "      <th></th>\n",
              "      <th>TeamName</th>\n",
              "      <th>Mu</th>\n",
              "      <th>Sigma</th>\n",
              "    </tr>\n",
              "  </thead>\n",
              "  <tbody>\n",
              "    <tr>\n",
              "      <th>0</th>\n",
              "      <td>TSM</td>\n",
              "      <td>25.667299</td>\n",
              "      <td>0.031866</td>\n",
              "    </tr>\n",
              "    <tr>\n",
              "      <th>1</th>\n",
              "      <td>CLG</td>\n",
              "      <td>25.587352</td>\n",
              "      <td>0.060235</td>\n",
              "    </tr>\n",
              "    <tr>\n",
              "      <th>2</th>\n",
              "      <td>TL</td>\n",
              "      <td>25.451693</td>\n",
              "      <td>0.033320</td>\n",
              "    </tr>\n",
              "    <tr>\n",
              "      <th>3</th>\n",
              "      <td>TIP</td>\n",
              "      <td>25.395593</td>\n",
              "      <td>0.024118</td>\n",
              "    </tr>\n",
              "    <tr>\n",
              "      <th>4</th>\n",
              "      <td>GV</td>\n",
              "      <td>25.358379</td>\n",
              "      <td>0.042900</td>\n",
              "    </tr>\n",
              "    <tr>\n",
              "      <th>5</th>\n",
              "      <td>C9</td>\n",
              "      <td>25.333417</td>\n",
              "      <td>0.032168</td>\n",
              "    </tr>\n",
              "    <tr>\n",
              "      <th>6</th>\n",
              "      <td>DIG</td>\n",
              "      <td>24.924224</td>\n",
              "      <td>0.071515</td>\n",
              "    </tr>\n",
              "    <tr>\n",
              "      <th>7</th>\n",
              "      <td>T8</td>\n",
              "      <td>24.863675</td>\n",
              "      <td>0.086431</td>\n",
              "    </tr>\n",
              "    <tr>\n",
              "      <th>8</th>\n",
              "      <td>WFX</td>\n",
              "      <td>24.697300</td>\n",
              "      <td>0.239627</td>\n",
              "    </tr>\n",
              "    <tr>\n",
              "      <th>9</th>\n",
              "      <td>TDK</td>\n",
              "      <td>24.333925</td>\n",
              "      <td>0.218330</td>\n",
              "    </tr>\n",
              "    <tr>\n",
              "      <th>10</th>\n",
              "      <td>NME</td>\n",
              "      <td>24.301720</td>\n",
              "      <td>0.189167</td>\n",
              "    </tr>\n",
              "    <tr>\n",
              "      <th>11</th>\n",
              "      <td>CST</td>\n",
              "      <td>23.027956</td>\n",
              "      <td>0.585011</td>\n",
              "    </tr>\n",
              "  </tbody>\n",
              "</table>\n",
              "</div>"
            ],
            "text/plain": [
              "   TeamName         Mu     Sigma\n",
              "0       TSM  25.667299  0.031866\n",
              "1       CLG  25.587352  0.060235\n",
              "2        TL  25.451693  0.033320\n",
              "3       TIP  25.395593  0.024118\n",
              "4        GV  25.358379  0.042900\n",
              "5        C9  25.333417  0.032168\n",
              "6       DIG  24.924224  0.071515\n",
              "7        T8  24.863675  0.086431\n",
              "8       WFX  24.697300  0.239627\n",
              "9       TDK  24.333925  0.218330\n",
              "10      NME  24.301720  0.189167\n",
              "11      CST  23.027956  0.585011"
            ]
          },
          "metadata": {
            "tags": []
          },
          "execution_count": 62
        }
      ]
    },
    {
      "cell_type": "code",
      "metadata": {
        "id": "4CzeaL5HpdzQ",
        "colab_type": "code",
        "colab": {}
      },
      "source": [
        "download_table_latex(\"newdata.tex\",skills_A_new)"
      ],
      "execution_count": 0,
      "outputs": []
    },
    {
      "cell_type": "markdown",
      "metadata": {
        "id": "t6YlRmWjmd6J",
        "colab_type": "text"
      },
      "source": [
        "## Q.10 Improvement"
      ]
    },
    {
      "cell_type": "markdown",
      "metadata": {
        "id": "j9j5NDWU0GoL",
        "colab_type": "text"
      },
      "source": [
        "#### Consider random situation in prediction"
      ]
    },
    {
      "cell_type": "code",
      "metadata": {
        "id": "hsPBa4l0z2ad",
        "colab_type": "code",
        "colab": {}
      },
      "source": [
        "def predict_y_random(mu_s1, mu_s2, sigma_s1, sigma_s2, t_sigma=1):\n",
        "    # Sample one and compare with 0\n",
        "    sample = np.random.normal(mu_s1-mu_s2, t_sigma+sigma_s1+sigma_s2)\n",
        "    if(sample>0):\n",
        "      return 1\n",
        "    else:\n",
        "      return -1\n",
        "\n",
        "\n",
        "def run_games_random(games_df, t_sigma=1, K=1000):  \n",
        "    #header [\"Team1\",\"Team2\",\"Score1\",\"Score2\"]\n",
        "    # Init Dataframe for skill\n",
        "    all_teams = list(set(games_df[\"Team1\"].tolist()+games_df[\"Team2\"].tolist()))\n",
        "    pd_skills = pd.DataFrame(columns=[\"TeamName\",\"Mu\",\"Sigma\"], index=all_teams)\n",
        "    pd_skills[\"TeamName\"] = all_teams\n",
        "    pd_skills[\"Mu\"] = 25\n",
        "    pd_skills[\"Sigma\"] = 25/3\n",
        "    right_pred = 0\n",
        "    for index, row in games_df.iterrows():\n",
        "        mu_s1 = pd_skills.loc[row[\"Team1\"],\"Mu\"]\n",
        "        sigma_s1 = pd_skills.loc[row[\"Team1\"],\"Sigma\"]\n",
        "        mu_s2 = pd_skills.loc[row[\"Team2\"],\"Mu\"]\n",
        "        sigma_s2 = pd_skills.loc[row[\"Team2\"],\"Sigma\"]\n",
        "        predict_result = predict_y_random(mu_s1, mu_s2, sigma_s1, sigma_s2)\n",
        "        if(row['result']!=0):\n",
        "            mu_s1_new, mu_s2_new, sigma_s1_new, sigma_s2_new = end2end_inference(mu_s1, \n",
        "                                                                                 sigma_s1, \n",
        "                                                                                 mu_s2, \n",
        "                                                                                 sigma_s2,\n",
        "                                                                                 t_sigma,\n",
        "                                                                                 K,\n",
        "                                                                                 win=(row['result']>0))\n",
        "            pd_skills.loc[row[\"Team1\"],\"Mu\"] = mu_s1_new\n",
        "            pd_skills.loc[row[\"Team1\"],\"Sigma\"] = sigma_s1_new\n",
        "            pd_skills.loc[row[\"Team2\"],\"Mu\"] = mu_s2_new\n",
        "            pd_skills.loc[row[\"Team2\"],\"Sigma\"] = sigma_s2_new\n",
        "            if(predict_result*row['result']>0):\n",
        "              right_pred+=1\n",
        "        else:\n",
        "            # ==0\n",
        "            pass\n",
        "    pd_skill_sort = pd_skills.sort_values(\"Mu\",ascending=False).reset_index(drop = True)\n",
        "    return pd_skill_sort, right_pred/games_df.shape[0]"
      ],
      "execution_count": 0,
      "outputs": []
    },
    {
      "cell_type": "code",
      "metadata": {
        "id": "XFt4pbi01n3u",
        "colab_type": "code",
        "outputId": "4f0649e5-3bae-40f0-f248-677e1e5882ec",
        "colab": {
          "base_uri": "https://localhost:8080/",
          "height": 696
        }
      },
      "source": [
        "np.random.seed(222)\n",
        "skills_A_random, acc_random = run_games_random(dfA_nodraw)\n",
        "print(\"Accuracy: \",acc_random)\n",
        "skills_A_random"
      ],
      "execution_count": 0,
      "outputs": [
        {
          "output_type": "stream",
          "text": [
            "Accuracy:  0.6176470588235294\n"
          ],
          "name": "stdout"
        },
        {
          "output_type": "execute_result",
          "data": {
            "text/html": [
              "<div>\n",
              "<style scoped>\n",
              "    .dataframe tbody tr th:only-of-type {\n",
              "        vertical-align: middle;\n",
              "    }\n",
              "\n",
              "    .dataframe tbody tr th {\n",
              "        vertical-align: top;\n",
              "    }\n",
              "\n",
              "    .dataframe thead th {\n",
              "        text-align: right;\n",
              "    }\n",
              "</style>\n",
              "<table border=\"1\" class=\"dataframe\">\n",
              "  <thead>\n",
              "    <tr style=\"text-align: right;\">\n",
              "      <th></th>\n",
              "      <th>TeamName</th>\n",
              "      <th>Mu</th>\n",
              "      <th>Sigma</th>\n",
              "    </tr>\n",
              "  </thead>\n",
              "  <tbody>\n",
              "    <tr>\n",
              "      <th>0</th>\n",
              "      <td>Napoli</td>\n",
              "      <td>26.037812</td>\n",
              "      <td>0.160618</td>\n",
              "    </tr>\n",
              "    <tr>\n",
              "      <th>1</th>\n",
              "      <td>Juventus</td>\n",
              "      <td>25.869360</td>\n",
              "      <td>0.193317</td>\n",
              "    </tr>\n",
              "    <tr>\n",
              "      <th>2</th>\n",
              "      <td>Milan</td>\n",
              "      <td>25.868687</td>\n",
              "      <td>0.189533</td>\n",
              "    </tr>\n",
              "    <tr>\n",
              "      <th>3</th>\n",
              "      <td>Inter</td>\n",
              "      <td>25.812408</td>\n",
              "      <td>0.144040</td>\n",
              "    </tr>\n",
              "    <tr>\n",
              "      <th>4</th>\n",
              "      <td>Atalanta</td>\n",
              "      <td>25.633136</td>\n",
              "      <td>0.120824</td>\n",
              "    </tr>\n",
              "    <tr>\n",
              "      <th>5</th>\n",
              "      <td>Torino</td>\n",
              "      <td>25.621628</td>\n",
              "      <td>0.165823</td>\n",
              "    </tr>\n",
              "    <tr>\n",
              "      <th>6</th>\n",
              "      <td>Roma</td>\n",
              "      <td>25.477402</td>\n",
              "      <td>0.133702</td>\n",
              "    </tr>\n",
              "    <tr>\n",
              "      <th>7</th>\n",
              "      <td>Lazio</td>\n",
              "      <td>25.321855</td>\n",
              "      <td>0.130692</td>\n",
              "    </tr>\n",
              "    <tr>\n",
              "      <th>8</th>\n",
              "      <td>Spal</td>\n",
              "      <td>25.050932</td>\n",
              "      <td>0.127097</td>\n",
              "    </tr>\n",
              "    <tr>\n",
              "      <th>9</th>\n",
              "      <td>Sampdoria</td>\n",
              "      <td>25.013930</td>\n",
              "      <td>0.105489</td>\n",
              "    </tr>\n",
              "    <tr>\n",
              "      <th>10</th>\n",
              "      <td>Bologna</td>\n",
              "      <td>24.949216</td>\n",
              "      <td>0.116669</td>\n",
              "    </tr>\n",
              "    <tr>\n",
              "      <th>11</th>\n",
              "      <td>Genoa</td>\n",
              "      <td>24.917123</td>\n",
              "      <td>0.121408</td>\n",
              "    </tr>\n",
              "    <tr>\n",
              "      <th>12</th>\n",
              "      <td>Udinese</td>\n",
              "      <td>24.906134</td>\n",
              "      <td>0.160558</td>\n",
              "    </tr>\n",
              "    <tr>\n",
              "      <th>13</th>\n",
              "      <td>Empoli</td>\n",
              "      <td>24.837896</td>\n",
              "      <td>0.113062</td>\n",
              "    </tr>\n",
              "    <tr>\n",
              "      <th>14</th>\n",
              "      <td>Parma</td>\n",
              "      <td>24.783616</td>\n",
              "      <td>0.113235</td>\n",
              "    </tr>\n",
              "    <tr>\n",
              "      <th>15</th>\n",
              "      <td>Fiorentina</td>\n",
              "      <td>24.744259</td>\n",
              "      <td>0.152260</td>\n",
              "    </tr>\n",
              "    <tr>\n",
              "      <th>16</th>\n",
              "      <td>Cagliari</td>\n",
              "      <td>24.703988</td>\n",
              "      <td>0.132804</td>\n",
              "    </tr>\n",
              "    <tr>\n",
              "      <th>17</th>\n",
              "      <td>Sassuolo</td>\n",
              "      <td>24.629066</td>\n",
              "      <td>0.231722</td>\n",
              "    </tr>\n",
              "    <tr>\n",
              "      <th>18</th>\n",
              "      <td>Frosinone</td>\n",
              "      <td>24.098351</td>\n",
              "      <td>0.174977</td>\n",
              "    </tr>\n",
              "    <tr>\n",
              "      <th>19</th>\n",
              "      <td>Chievo</td>\n",
              "      <td>23.550172</td>\n",
              "      <td>0.466562</td>\n",
              "    </tr>\n",
              "  </tbody>\n",
              "</table>\n",
              "</div>"
            ],
            "text/plain": [
              "      TeamName         Mu     Sigma\n",
              "0       Napoli  26.037812  0.160618\n",
              "1     Juventus  25.869360  0.193317\n",
              "2        Milan  25.868687  0.189533\n",
              "3        Inter  25.812408  0.144040\n",
              "4     Atalanta  25.633136  0.120824\n",
              "5       Torino  25.621628  0.165823\n",
              "6         Roma  25.477402  0.133702\n",
              "7        Lazio  25.321855  0.130692\n",
              "8         Spal  25.050932  0.127097\n",
              "9    Sampdoria  25.013930  0.105489\n",
              "10     Bologna  24.949216  0.116669\n",
              "11       Genoa  24.917123  0.121408\n",
              "12     Udinese  24.906134  0.160558\n",
              "13      Empoli  24.837896  0.113062\n",
              "14       Parma  24.783616  0.113235\n",
              "15  Fiorentina  24.744259  0.152260\n",
              "16    Cagliari  24.703988  0.132804\n",
              "17    Sassuolo  24.629066  0.231722\n",
              "18   Frosinone  24.098351  0.174977\n",
              "19      Chievo  23.550172  0.466562"
            ]
          },
          "metadata": {
            "tags": []
          },
          "execution_count": 65
        }
      ]
    },
    {
      "cell_type": "markdown",
      "metadata": {
        "id": "-TXrEps2z9w5",
        "colab_type": "text"
      },
      "source": [
        "#### Compare differnet value of `sigma_t`"
      ]
    },
    {
      "cell_type": "code",
      "metadata": {
        "id": "WbSYNiP40GD3",
        "colab_type": "code",
        "outputId": "5c4269af-312d-470c-b7fd-2793513110f7",
        "colab": {
          "base_uri": "https://localhost:8080/",
          "height": 54
        }
      },
      "source": [
        "sigmat_values = [0.5, 1.0, 5.0]\n",
        "acc_sigmat = np.zeros(3)\n",
        "for i in range(3):\n",
        "  st = sigmat_values[i]\n",
        "  skills_A, acc = run_games(dfA_nodraw, t_sigma=st)\n",
        "  acc_sigmat[i] = acc\n",
        "print(acc_sigmat)"
      ],
      "execution_count": 0,
      "outputs": [
        {
          "output_type": "stream",
          "text": [
            "[0.63235294 0.64705882 0.61029412]\n"
          ],
          "name": "stdout"
        }
      ]
    },
    {
      "cell_type": "markdown",
      "metadata": {
        "id": "2qjeoEJs0UKj",
        "colab_type": "text"
      },
      "source": [
        "#### Update model using draw"
      ]
    },
    {
      "cell_type": "code",
      "metadata": {
        "id": "O7cEkBbgu6_R",
        "colab_type": "code",
        "colab": {}
      },
      "source": [
        "def run_games_consider_draw(games_df, epsilon=2, t_sigma=1, K=1000):  \n",
        "    #header [\"Team1\",\"Team2\",\"Score1\",\"Score2\"]\n",
        "    # Init Dataframe for skill\n",
        "    all_teams = list(set(games_df[\"Team1\"].tolist()+games_df[\"Team2\"].tolist()))\n",
        "    pd_skills = pd.DataFrame(columns=[\"TeamName\",\"Mu\",\"Sigma\"], index=all_teams)\n",
        "    pd_skills[\"TeamName\"] = all_teams\n",
        "    pd_skills[\"Mu\"] = 25\n",
        "    pd_skills[\"Sigma\"] = 25/3\n",
        "    right_pred = 0\n",
        "    for index, row in games_df.iterrows():\n",
        "        mu_s1 = pd_skills.loc[row[\"Team1\"],\"Mu\"]\n",
        "        sigma_s1 = pd_skills.loc[row[\"Team1\"],\"Sigma\"]\n",
        "        mu_s2 = pd_skills.loc[row[\"Team2\"],\"Mu\"]\n",
        "        sigma_s2 = pd_skills.loc[row[\"Team2\"],\"Sigma\"]\n",
        "        predict_result = predict_y(mu_s1, mu_s2, sigma_s1, sigma_s2)\n",
        "        if(row['result']!=0):\n",
        "            mu_s1_new, mu_s2_new, sigma_s1_new, sigma_s2_new = end2end_inference(mu_s1, \n",
        "                                                                                 sigma_s1, \n",
        "                                                                                 mu_s2, \n",
        "                                                                                 sigma_s2,\n",
        "                                                                                 t_sigma,\n",
        "                                                                                 K,\n",
        "                                                                                 win=(row['result']>0))\n",
        "            pd_skills.loc[row[\"Team1\"],\"Mu\"] = mu_s1_new\n",
        "            pd_skills.loc[row[\"Team1\"],\"Sigma\"] = sigma_s1_new\n",
        "            pd_skills.loc[row[\"Team2\"],\"Mu\"] = mu_s2_new\n",
        "            pd_skills.loc[row[\"Team2\"],\"Sigma\"] = sigma_s2_new\n",
        "            if(predict_result*row['result']>0):\n",
        "              right_pred+=1\n",
        "        else:\n",
        "            # differnece of mu > epsilon\n",
        "            if_big_diff = abs(mu_s1-mu_s2)>epsilon\n",
        "            if(if_big_diff):\n",
        "                mu_s1_new, mu_s2_new, sigma_s1_new, sigma_s2_new = end2end_inference(mu_s1, \n",
        "                                                                                 sigma_s1, \n",
        "                                                                                 mu_s2, \n",
        "                                                                                 sigma_s2,\n",
        "                                                                                 t_sigma,\n",
        "                                                                                 K,\n",
        "                                                                                 win=(mu_s1<mu_s2))\n",
        "                pd_skills.loc[row[\"Team1\"],\"Mu\"] = mu_s1_new\n",
        "                pd_skills.loc[row[\"Team1\"],\"Sigma\"] = sigma_s1_new\n",
        "                pd_skills.loc[row[\"Team2\"],\"Mu\"] = mu_s2_new\n",
        "                pd_skills.loc[row[\"Team2\"],\"Sigma\"] = sigma_s2_new\n",
        "    pd_skill_sort = pd_skills.sort_values(\"Mu\",ascending=False).reset_index(drop = True)\n",
        "    return pd_skill_sort, right_pred/games_df.shape[0]\n"
      ],
      "execution_count": 0,
      "outputs": []
    },
    {
      "cell_type": "code",
      "metadata": {
        "id": "QZJb88n296U5",
        "colab_type": "code",
        "outputId": "c4c9364b-083d-4226-c8ab-a3fb57d64a89",
        "colab": {
          "base_uri": "https://localhost:8080/",
          "height": 696
        }
      },
      "source": [
        "# Compare to given data\n",
        "skills_A_with_draw, acc_A_with_draw = run_games_consider_draw(dfA_useful)\n",
        "print(acc_A_with_draw)\n",
        "skills_A_with_draw\n"
      ],
      "execution_count": 0,
      "outputs": [
        {
          "output_type": "stream",
          "text": [
            "0.4763157894736842\n"
          ],
          "name": "stdout"
        },
        {
          "output_type": "execute_result",
          "data": {
            "text/html": [
              "<div>\n",
              "<style scoped>\n",
              "    .dataframe tbody tr th:only-of-type {\n",
              "        vertical-align: middle;\n",
              "    }\n",
              "\n",
              "    .dataframe tbody tr th {\n",
              "        vertical-align: top;\n",
              "    }\n",
              "\n",
              "    .dataframe thead th {\n",
              "        text-align: right;\n",
              "    }\n",
              "</style>\n",
              "<table border=\"1\" class=\"dataframe\">\n",
              "  <thead>\n",
              "    <tr style=\"text-align: right;\">\n",
              "      <th></th>\n",
              "      <th>TeamName</th>\n",
              "      <th>Mu</th>\n",
              "      <th>Sigma</th>\n",
              "    </tr>\n",
              "  </thead>\n",
              "  <tbody>\n",
              "    <tr>\n",
              "      <th>0</th>\n",
              "      <td>Juventus</td>\n",
              "      <td>25.789717</td>\n",
              "      <td>0.146313</td>\n",
              "    </tr>\n",
              "    <tr>\n",
              "      <th>1</th>\n",
              "      <td>Atalanta</td>\n",
              "      <td>25.575956</td>\n",
              "      <td>0.103717</td>\n",
              "    </tr>\n",
              "    <tr>\n",
              "      <th>2</th>\n",
              "      <td>Roma</td>\n",
              "      <td>25.540443</td>\n",
              "      <td>0.142012</td>\n",
              "    </tr>\n",
              "    <tr>\n",
              "      <th>3</th>\n",
              "      <td>Napoli</td>\n",
              "      <td>25.465676</td>\n",
              "      <td>0.118858</td>\n",
              "    </tr>\n",
              "    <tr>\n",
              "      <th>4</th>\n",
              "      <td>Torino</td>\n",
              "      <td>25.409638</td>\n",
              "      <td>0.126403</td>\n",
              "    </tr>\n",
              "    <tr>\n",
              "      <th>5</th>\n",
              "      <td>Milan</td>\n",
              "      <td>25.370399</td>\n",
              "      <td>0.119281</td>\n",
              "    </tr>\n",
              "    <tr>\n",
              "      <th>6</th>\n",
              "      <td>Inter</td>\n",
              "      <td>25.349634</td>\n",
              "      <td>0.100768</td>\n",
              "    </tr>\n",
              "    <tr>\n",
              "      <th>7</th>\n",
              "      <td>Lazio</td>\n",
              "      <td>25.100471</td>\n",
              "      <td>0.084688</td>\n",
              "    </tr>\n",
              "    <tr>\n",
              "      <th>8</th>\n",
              "      <td>Sampdoria</td>\n",
              "      <td>24.875777</td>\n",
              "      <td>0.068568</td>\n",
              "    </tr>\n",
              "    <tr>\n",
              "      <th>9</th>\n",
              "      <td>Bologna</td>\n",
              "      <td>24.870109</td>\n",
              "      <td>0.105100</td>\n",
              "    </tr>\n",
              "    <tr>\n",
              "      <th>10</th>\n",
              "      <td>Spal</td>\n",
              "      <td>24.782174</td>\n",
              "      <td>0.138975</td>\n",
              "    </tr>\n",
              "    <tr>\n",
              "      <th>11</th>\n",
              "      <td>Genoa</td>\n",
              "      <td>24.779875</td>\n",
              "      <td>0.135221</td>\n",
              "    </tr>\n",
              "    <tr>\n",
              "      <th>12</th>\n",
              "      <td>Udinese</td>\n",
              "      <td>24.712669</td>\n",
              "      <td>0.123023</td>\n",
              "    </tr>\n",
              "    <tr>\n",
              "      <th>13</th>\n",
              "      <td>Cagliari</td>\n",
              "      <td>24.695032</td>\n",
              "      <td>0.094577</td>\n",
              "    </tr>\n",
              "    <tr>\n",
              "      <th>14</th>\n",
              "      <td>Parma</td>\n",
              "      <td>24.692521</td>\n",
              "      <td>0.106178</td>\n",
              "    </tr>\n",
              "    <tr>\n",
              "      <th>15</th>\n",
              "      <td>Fiorentina</td>\n",
              "      <td>24.582574</td>\n",
              "      <td>0.126005</td>\n",
              "    </tr>\n",
              "    <tr>\n",
              "      <th>16</th>\n",
              "      <td>Empoli</td>\n",
              "      <td>24.474234</td>\n",
              "      <td>0.089462</td>\n",
              "    </tr>\n",
              "    <tr>\n",
              "      <th>17</th>\n",
              "      <td>Sassuolo</td>\n",
              "      <td>24.402659</td>\n",
              "      <td>0.177499</td>\n",
              "    </tr>\n",
              "    <tr>\n",
              "      <th>18</th>\n",
              "      <td>Chievo</td>\n",
              "      <td>24.188229</td>\n",
              "      <td>0.163617</td>\n",
              "    </tr>\n",
              "    <tr>\n",
              "      <th>19</th>\n",
              "      <td>Frosinone</td>\n",
              "      <td>24.057714</td>\n",
              "      <td>0.114835</td>\n",
              "    </tr>\n",
              "  </tbody>\n",
              "</table>\n",
              "</div>"
            ],
            "text/plain": [
              "      TeamName         Mu     Sigma\n",
              "0     Juventus  25.789717  0.146313\n",
              "1     Atalanta  25.575956  0.103717\n",
              "2         Roma  25.540443  0.142012\n",
              "3       Napoli  25.465676  0.118858\n",
              "4       Torino  25.409638  0.126403\n",
              "5        Milan  25.370399  0.119281\n",
              "6        Inter  25.349634  0.100768\n",
              "7        Lazio  25.100471  0.084688\n",
              "8    Sampdoria  24.875777  0.068568\n",
              "9      Bologna  24.870109  0.105100\n",
              "10        Spal  24.782174  0.138975\n",
              "11       Genoa  24.779875  0.135221\n",
              "12     Udinese  24.712669  0.123023\n",
              "13    Cagliari  24.695032  0.094577\n",
              "14       Parma  24.692521  0.106178\n",
              "15  Fiorentina  24.582574  0.126005\n",
              "16      Empoli  24.474234  0.089462\n",
              "17    Sassuolo  24.402659  0.177499\n",
              "18      Chievo  24.188229  0.163617\n",
              "19   Frosinone  24.057714  0.114835"
            ]
          },
          "metadata": {
            "tags": []
          },
          "execution_count": 68
        }
      ]
    },
    {
      "cell_type": "markdown",
      "metadata": {
        "id": "0DUbtpKX0cOJ",
        "colab_type": "text"
      },
      "source": [
        "#### Update `sigma_t` for each pair of players"
      ]
    },
    {
      "cell_type": "code",
      "metadata": {
        "id": "mRpqmz6n_DEF",
        "colab_type": "code",
        "colab": {}
      },
      "source": [
        "def end2end_inference_sigmat(mu_s1, var_s1, mu_s2, var_s2, t_sigma, K, win=True):\n",
        "    s_mean = np.mat([[mu_s1], [mu_s2]])\n",
        "    s_sigma = np.mat([[var_s1, 0], [0, var_s2]])\n",
        "    t_sigma = 1\n",
        "    s1, s2, t = GibbsSampling(s_mean, s_sigma, t_sigma, K, win)\n",
        "    mu_marg, cov_marg = calcu_marg_para(s1,s2,t,K)\n",
        "    #print(\"mean: \", mu_marg, \"\\ncovariance: \\n\", cov_marg)\n",
        "    return mu_marg, cov_marg\n",
        "\n",
        "    \n",
        "def run_games_sigmat(games_df, epsilon=2, t_sigma_init=1, K=1000):  \n",
        "    #header [\"Team1\",\"Team2\",\"Score1\",\"Score2\"]\n",
        "    # Init Dataframe for skill\n",
        "    all_teams = list(set(games_df[\"Team1\"].tolist()+games_df[\"Team2\"].tolist()))\n",
        "    pd_skills = pd.DataFrame(columns=[\"TeamName\",\"Mu\",\"Sigma\"], index=all_teams)\n",
        "    pd_skills[\"TeamName\"] = all_teams\n",
        "    pd_skills[\"Mu\"] = 25\n",
        "    pd_skills[\"Sigma\"] = 25/3\n",
        "    pd_sigmat = pd.DataFrame(data=t_sigma_init, columns=all_teams, index=all_teams)\n",
        "    right_pred = 0\n",
        "    for index, row in games_df.iterrows():\n",
        "        mu_s1 = pd_skills.loc[row[\"Team1\"],\"Mu\"]\n",
        "        sigma_s1 = pd_skills.loc[row[\"Team1\"],\"Sigma\"]\n",
        "        mu_s2 = pd_skills.loc[row[\"Team2\"],\"Mu\"]\n",
        "        sigma_s2 = pd_skills.loc[row[\"Team2\"],\"Sigma\"]\n",
        "        t_sigma = pd_sigmat.loc[row[\"Team1\"],row[\"Team2\"]]\n",
        "        predict_result = predict_y(mu_s1, mu_s2, sigma_s1, sigma_s2)\n",
        "        if(row['result']!=0):\n",
        "            mu_matrix, cov_matrix = end2end_inference_sigmat(mu_s1, sigma_s1, \n",
        "                                                             mu_s2, sigma_s2,\n",
        "                                                             t_sigma, K, win=(row['result']>0))\n",
        "            pd_skills.loc[row[\"Team1\"],\"Mu\"] = mu_matrix[0]\n",
        "            pd_skills.loc[row[\"Team1\"],\"Sigma\"] = cov_matrix[0][0]\n",
        "            pd_skills.loc[row[\"Team2\"],\"Mu\"] = mu_matrix[1]\n",
        "            pd_skills.loc[row[\"Team2\"],\"Sigma\"] = cov_matrix[1][1]\n",
        "            pd_sigmat.loc[row[\"Team1\"],row[\"Team2\"]] = cov_matrix[2][2]\n",
        "            pd_sigmat.loc[row[\"Team2\"],row[\"Team1\"]] = cov_matrix[2][2]\n",
        "            if(predict_result*row['result']>0):\n",
        "              right_pred+=1\n",
        "        else:\n",
        "            # ==0\n",
        "            pass\n",
        "    pd_skill_sort = pd_skills.sort_values(\"Mu\",ascending=False).reset_index(drop = True)\n",
        "    return pd_skill_sort, right_pred/games_df.shape[0]\n"
      ],
      "execution_count": 0,
      "outputs": []
    },
    {
      "cell_type": "code",
      "metadata": {
        "id": "gOe25J9Nf5Ng",
        "colab_type": "code",
        "outputId": "14267e31-6811-4bc6-8544-3e06ad61c917",
        "colab": {
          "base_uri": "https://localhost:8080/",
          "height": 696
        }
      },
      "source": [
        "# Compare to SeririeA\n",
        "skills_A_sigmat, acc_A_sigmat = run_games_sigmat(dfA_useful)\n",
        "print(acc_A_sigmat)\n",
        "skills_A_sigmat"
      ],
      "execution_count": 0,
      "outputs": [
        {
          "output_type": "stream",
          "text": [
            "0.4631578947368421\n"
          ],
          "name": "stdout"
        },
        {
          "output_type": "execute_result",
          "data": {
            "text/html": [
              "<div>\n",
              "<style scoped>\n",
              "    .dataframe tbody tr th:only-of-type {\n",
              "        vertical-align: middle;\n",
              "    }\n",
              "\n",
              "    .dataframe tbody tr th {\n",
              "        vertical-align: top;\n",
              "    }\n",
              "\n",
              "    .dataframe thead th {\n",
              "        text-align: right;\n",
              "    }\n",
              "</style>\n",
              "<table border=\"1\" class=\"dataframe\">\n",
              "  <thead>\n",
              "    <tr style=\"text-align: right;\">\n",
              "      <th></th>\n",
              "      <th>TeamName</th>\n",
              "      <th>Mu</th>\n",
              "      <th>Sigma</th>\n",
              "    </tr>\n",
              "  </thead>\n",
              "  <tbody>\n",
              "    <tr>\n",
              "      <th>0</th>\n",
              "      <td>Napoli</td>\n",
              "      <td>25.982543</td>\n",
              "      <td>0.179840</td>\n",
              "    </tr>\n",
              "    <tr>\n",
              "      <th>1</th>\n",
              "      <td>Milan</td>\n",
              "      <td>25.885313</td>\n",
              "      <td>0.210123</td>\n",
              "    </tr>\n",
              "    <tr>\n",
              "      <th>2</th>\n",
              "      <td>Atalanta</td>\n",
              "      <td>25.724481</td>\n",
              "      <td>0.128831</td>\n",
              "    </tr>\n",
              "    <tr>\n",
              "      <th>3</th>\n",
              "      <td>Juventus</td>\n",
              "      <td>25.666731</td>\n",
              "      <td>0.239968</td>\n",
              "    </tr>\n",
              "    <tr>\n",
              "      <th>4</th>\n",
              "      <td>Torino</td>\n",
              "      <td>25.586058</td>\n",
              "      <td>0.144900</td>\n",
              "    </tr>\n",
              "    <tr>\n",
              "      <th>5</th>\n",
              "      <td>Inter</td>\n",
              "      <td>25.584053</td>\n",
              "      <td>0.171527</td>\n",
              "    </tr>\n",
              "    <tr>\n",
              "      <th>6</th>\n",
              "      <td>Roma</td>\n",
              "      <td>25.309985</td>\n",
              "      <td>0.141081</td>\n",
              "    </tr>\n",
              "    <tr>\n",
              "      <th>7</th>\n",
              "      <td>Lazio</td>\n",
              "      <td>25.090413</td>\n",
              "      <td>0.116587</td>\n",
              "    </tr>\n",
              "    <tr>\n",
              "      <th>8</th>\n",
              "      <td>Sampdoria</td>\n",
              "      <td>24.929276</td>\n",
              "      <td>0.111203</td>\n",
              "    </tr>\n",
              "    <tr>\n",
              "      <th>9</th>\n",
              "      <td>Spal</td>\n",
              "      <td>24.854391</td>\n",
              "      <td>0.134339</td>\n",
              "    </tr>\n",
              "    <tr>\n",
              "      <th>10</th>\n",
              "      <td>Bologna</td>\n",
              "      <td>24.844138</td>\n",
              "      <td>0.116251</td>\n",
              "    </tr>\n",
              "    <tr>\n",
              "      <th>11</th>\n",
              "      <td>Genoa</td>\n",
              "      <td>24.838031</td>\n",
              "      <td>0.155347</td>\n",
              "    </tr>\n",
              "    <tr>\n",
              "      <th>12</th>\n",
              "      <td>Empoli</td>\n",
              "      <td>24.824459</td>\n",
              "      <td>0.137604</td>\n",
              "    </tr>\n",
              "    <tr>\n",
              "      <th>13</th>\n",
              "      <td>Parma</td>\n",
              "      <td>24.716358</td>\n",
              "      <td>0.099218</td>\n",
              "    </tr>\n",
              "    <tr>\n",
              "      <th>14</th>\n",
              "      <td>Udinese</td>\n",
              "      <td>24.708056</td>\n",
              "      <td>0.167254</td>\n",
              "    </tr>\n",
              "    <tr>\n",
              "      <th>15</th>\n",
              "      <td>Cagliari</td>\n",
              "      <td>24.692295</td>\n",
              "      <td>0.097475</td>\n",
              "    </tr>\n",
              "    <tr>\n",
              "      <th>16</th>\n",
              "      <td>Fiorentina</td>\n",
              "      <td>24.645407</td>\n",
              "      <td>0.122546</td>\n",
              "    </tr>\n",
              "    <tr>\n",
              "      <th>17</th>\n",
              "      <td>Sassuolo</td>\n",
              "      <td>24.462143</td>\n",
              "      <td>0.210091</td>\n",
              "    </tr>\n",
              "    <tr>\n",
              "      <th>18</th>\n",
              "      <td>Frosinone</td>\n",
              "      <td>24.111835</td>\n",
              "      <td>0.138111</td>\n",
              "    </tr>\n",
              "    <tr>\n",
              "      <th>19</th>\n",
              "      <td>Chievo</td>\n",
              "      <td>23.389126</td>\n",
              "      <td>0.433813</td>\n",
              "    </tr>\n",
              "  </tbody>\n",
              "</table>\n",
              "</div>"
            ],
            "text/plain": [
              "      TeamName         Mu     Sigma\n",
              "0       Napoli  25.982543  0.179840\n",
              "1        Milan  25.885313  0.210123\n",
              "2     Atalanta  25.724481  0.128831\n",
              "3     Juventus  25.666731  0.239968\n",
              "4       Torino  25.586058  0.144900\n",
              "5        Inter  25.584053  0.171527\n",
              "6         Roma  25.309985  0.141081\n",
              "7        Lazio  25.090413  0.116587\n",
              "8    Sampdoria  24.929276  0.111203\n",
              "9         Spal  24.854391  0.134339\n",
              "10     Bologna  24.844138  0.116251\n",
              "11       Genoa  24.838031  0.155347\n",
              "12      Empoli  24.824459  0.137604\n",
              "13       Parma  24.716358  0.099218\n",
              "14     Udinese  24.708056  0.167254\n",
              "15    Cagliari  24.692295  0.097475\n",
              "16  Fiorentina  24.645407  0.122546\n",
              "17    Sassuolo  24.462143  0.210091\n",
              "18   Frosinone  24.111835  0.138111\n",
              "19      Chievo  23.389126  0.433813"
            ]
          },
          "metadata": {
            "tags": []
          },
          "execution_count": 72
        }
      ]
    }
  ]
}